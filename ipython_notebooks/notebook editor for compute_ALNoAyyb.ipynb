{
  "metadata": {
    "kernelspec": {
      "name": "py-dku-containerized-venv-py_38_geo-cpu-xl-2-cpu-16gb-ram",
      "display_name": "Python in CPU-XL-2-cpu-16Gb-Ram (env py_38_geo)",
      "language": "python"
    },
    "associatedRecipe": "compute_ALNoAyyb",
    "creator": "may.phang@dataiku.com",
    "createdOn": 1697090031063,
    "tags": [
      "recipe-editor"
    ],
    "customFields": {},
    "hide_input": false,
    "language_info": {
      "name": "python",
      "version": "3.8.17",
      "mimetype": "text/x-python",
      "codemirror_mode": {
        "name": "ipython",
        "version": 3
      },
      "pygments_lexer": "ipython3",
      "nbconvert_exporter": "python",
      "file_extension": ".py"
    },
    "modifiedBy": "may.phang@dataiku.com"
  },
  "nbformat": 4,
  "nbformat_minor": 1,
  "cells": [
    {
      "execution_count": 0,
      "cell_type": "code",
      "metadata": {},
      "source": [
        "# -*- coding: utf-8 -*-\nimport dataiku\nimport pandas as pd, numpy as np\nfrom dataiku import pandasutils as pdu\n\n# import the netcdf4 module\nimport netCDF4 as nc\nimport io\nimport shutil\nfrom pathlib import Path"
      ],
      "outputs": []
    },
    {
      "execution_count": 0,
      "cell_type": "code",
      "metadata": {},
      "source": [
        "# Read recipe inputs\nfolder \u003d dataiku.Folder(\"q60yhFTA\")\nfolder_info \u003d folder.get_info()"
      ],
      "outputs": []
    },
    {
      "execution_count": 0,
      "cell_type": "code",
      "metadata": {},
      "source": [
        "file_to_download \u003d folder.list_paths_in_partition()[0]"
      ],
      "outputs": []
    },
    {
      "cell_type": "markdown",
      "metadata": {},
      "source": [
        "Firstly download the dataset, as the dataset was in the s3 folder"
      ]
    },
    {
      "execution_count": 0,
      "cell_type": "code",
      "metadata": {},
      "source": [
        "#Create temporary directory in /tmp\nwith tempfile.TemporaryDirectory() as tmpdirname:\n    #Loop through every file of the TF model and copy it localy to the tmp directory\n    for file_name in folder.list_paths_in_partition():\n        local_file_path \u003d tmpdirname + file_name\n        #Create file localy\n        if not os.path.exists(os.path.dirname(local_file_path)):\n            os.makedirs(os.path.dirname(local_file_path))\n        #Copy file from remote to local\n        with folder.get_download_stream(file_name) as f_remote, open(local_file_path,\u0027wb\u0027) as f_local:\n            shutil.copyfileobj(f_remote,f_local)\n#             print(local_file_path)\n#             print(\"file path location is \" + os.path.join(tmpdirname, file_to_download))\n            data \u003d nc.Dataset(local_file_path)"
      ],
      "outputs": []
    },
    {
      "execution_count": 0,
      "cell_type": "code",
      "metadata": {},
      "source": [
        "# do stuff with"
      ],
      "outputs": []
    },
    {
      "execution_count": 0,
      "cell_type": "code",
      "metadata": {},
      "source": [
        "# Write recipe outputs\ndata_processed \u003d dataiku.Folder(\"ALNoAyyb\")\ndata_processed_info \u003d data_processed.get_info()"
      ],
      "outputs": []
    }
  ]
}