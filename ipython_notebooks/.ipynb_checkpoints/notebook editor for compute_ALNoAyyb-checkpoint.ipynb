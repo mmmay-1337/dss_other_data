{
  "nbformat": 4,
  "nbformat_minor": 0,
  "metadata": {
    "kernelspec": {
      "display_name": "Python in CPU-M-1-cpu-4Gb-Ram (builtin env)",
      "language": "python",
      "name": "py-dku-containerized-venv--cpu-m-1-cpu-4gb-ram"
    },
    "associatedRecipe": "compute_ALNoAyyb",
    "creator": "may.phang@dataiku.com",
    "createdOn": 1697090031063,
    "tags": [
      "recipe-editor"
    ],
    "customFields": {}
  },
  "cells": [
    {
      "cell_type": "code",
      "metadata": {},
      "outputs": [],
      "execution_count": 0,
      "source": [
        "# -*- coding: utf-8 -*-\n",
        "import dataiku\n",
        "import pandas as pd, numpy as np\n",
        "from dataiku import pandasutils as pdu\n",
        "\n",
        "# Read recipe inputs\n",
        "main_folder \u003d dataiku.Folder(\"q60yhFTA\")\n",
        "main_folder_info \u003d main_folder.get_info()\n",
        "\n",
        "\n",
        "\n",
        "\n",
        "# Write recipe outputs\n",
        "data_processed \u003d dataiku.Folder(\"ALNoAyyb\")\n",
        "data_processed_info \u003d data_processed.get_info()"
      ]
    }
  ]
}